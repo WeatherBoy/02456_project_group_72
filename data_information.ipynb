{
 "cells": [
  {
   "cell_type": "code",
   "execution_count": 1,
   "metadata": {},
   "outputs": [
    {
     "data": {
      "text/html": [
       "<div>\n",
       "<style scoped>\n",
       "    .dataframe tbody tr th:only-of-type {\n",
       "        vertical-align: middle;\n",
       "    }\n",
       "\n",
       "    .dataframe tbody tr th {\n",
       "        vertical-align: top;\n",
       "    }\n",
       "\n",
       "    .dataframe thead th {\n",
       "        text-align: right;\n",
       "    }\n",
       "</style>\n",
       "<table border=\"1\" class=\"dataframe\">\n",
       "  <thead>\n",
       "    <tr style=\"text-align: right;\">\n",
       "      <th></th>\n",
       "      <th>Message</th>\n",
       "      <th>Response</th>\n",
       "    </tr>\n",
       "  </thead>\n",
       "  <tbody>\n",
       "    <tr>\n",
       "      <th>0</th>\n",
       "      <td>Samsung and apple have really succeeded in pro...</td>\n",
       "      <td>You can say that again. I honestly feel like s...</td>\n",
       "    </tr>\n",
       "    <tr>\n",
       "      <th>1</th>\n",
       "      <td>You can say that again. I honestly feel like s...</td>\n",
       "      <td>OnePlus has a fanbase that's just as rabid. Ho...</td>\n",
       "    </tr>\n",
       "    <tr>\n",
       "      <th>2</th>\n",
       "      <td>These products don't exist in a vacuum. Things...</td>\n",
       "      <td>I don't have a problem with being critical, it...</td>\n",
       "    </tr>\n",
       "    <tr>\n",
       "      <th>3</th>\n",
       "      <td>I don't have a problem with being critical, it...</td>\n",
       "      <td>Yeah, it can get a bit childish...  For me it'...</td>\n",
       "    </tr>\n",
       "    <tr>\n",
       "      <th>4</th>\n",
       "      <td>If you don't use an iPhone you're automaticall...</td>\n",
       "      <td>And if you don't use samsung, you're automatic...</td>\n",
       "    </tr>\n",
       "  </tbody>\n",
       "</table>\n",
       "</div>"
      ],
      "text/plain": [
       "                                             Message  \\\n",
       "0  Samsung and apple have really succeeded in pro...   \n",
       "1  You can say that again. I honestly feel like s...   \n",
       "2  These products don't exist in a vacuum. Things...   \n",
       "3  I don't have a problem with being critical, it...   \n",
       "4  If you don't use an iPhone you're automaticall...   \n",
       "\n",
       "                                            Response  \n",
       "0  You can say that again. I honestly feel like s...  \n",
       "1  OnePlus has a fanbase that's just as rabid. Ho...  \n",
       "2  I don't have a problem with being critical, it...  \n",
       "3  Yeah, it can get a bit childish...  For me it'...  \n",
       "4  And if you don't use samsung, you're automatic...  "
      ]
     },
     "execution_count": 1,
     "metadata": {},
     "output_type": "execute_result"
    }
   ],
   "source": [
    "import pandas as pd\n",
    "path = \"./data/\"\n",
    "df1 = pd.read_csv(path + \"mr_reddit_casual.csv\",sep = '§', engine='python')\n",
    "df1"
   ]
  }
 ],
 "metadata": {
  "kernelspec": {
   "display_name": "Python 3.10.6 64-bit",
   "language": "python",
   "name": "python3"
  },
  "language_info": {
   "codemirror_mode": {
    "name": "ipython",
    "version": 3
   },
   "file_extension": ".py",
   "mimetype": "text/x-python",
   "name": "python",
   "nbconvert_exporter": "python",
   "pygments_lexer": "ipython3",
   "version": "3.10.6"
  },
  "orig_nbformat": 4,
  "vscode": {
   "interpreter": {
    "hash": "8c3d4d9970fc5c09c50d9318a9c7fbf4d0159e4b28833276f5678ee22bded273"
   }
  }
 },
 "nbformat": 4,
 "nbformat_minor": 2
}
